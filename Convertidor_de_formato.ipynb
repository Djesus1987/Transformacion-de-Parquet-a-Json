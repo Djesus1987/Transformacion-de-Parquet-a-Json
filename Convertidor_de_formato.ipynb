{
 "cells": [
  {
   "cell_type": "code",
   "execution_count": null,
   "metadata": {},
   "outputs": [],
   "source": [
    "import pandas as pd\n",
    "import pyarrow as pyw\n",
    "import json \n",
    "\n",
    "# Lee el archivo Parquet\n",
    "df = pd.read_parquet(r'C:\\Users\\dell5\\Desktop\\Curso Data science\\Modulo 4\\Clase 04\\business.parquet')\n",
    "\n",
    "df"
   ]
  },
  {
   "cell_type": "code",
   "execution_count": null,
   "metadata": {},
   "outputs": [],
   "source": [
    "# Guarda el DataFrame en formato JSON\n",
    "ar_json=df.to_json('archivo.json', orient='records', lines=True)\n",
    "\n"
   ]
  },
  {
   "cell_type": "code",
   "execution_count": null,
   "metadata": {},
   "outputs": [],
   "source": [
    "# Especifica la ruta del archivo JSON\n",
    "ruta_archivo = 'archivo.json'\n",
    "\n",
    "# Lee el archivo JSON línea por línea\n",
    "with open(ruta_archivo, 'r', encoding='utf-8') as archivo:\n",
    "    datos1 = []\n",
    "    for linea in archivo:\n",
    "        datos1.append(json.loads(linea))\n",
    "\n",
    "# Imprime el contenido del archivo JSON\n",
    "print(datos1)\n"
   ]
  },
  {
   "cell_type": "code",
   "execution_count": null,
   "metadata": {},
   "outputs": [],
   "source": [
    "df1=pd.DataFrame(datos1)\n",
    "df1"
   ]
  },
  {
   "cell_type": "code",
   "execution_count": null,
   "metadata": {},
   "outputs": [],
   "source": [
    "ar_json1=df1.to_json('archivo1.json', orient='records', lines=True)"
   ]
  },
  {
   "cell_type": "code",
   "execution_count": null,
   "metadata": {},
   "outputs": [],
   "source": [
    "import json\n",
    "\n",
    "# Especifica la ruta del archivo JSON\n",
    "ruta_archivo = 'archivo.json'\n",
    "\n",
    "# Lee todo el contenido del archivo\n",
    "with open(ruta_archivo, 'r', encoding='utf-8') as archivo:\n",
    "    contenido = archivo.read()\n",
    "\n",
    "# Divide el contenido en objetos JSON individuales\n",
    "objetos_json = contenido.split('\\n')\n",
    "\n",
    "# Carga cada objeto JSON y guarda en una lista\n",
    "datos2 = [json.loads(obj) for obj in objetos_json if obj.strip()]\n",
    "\n",
    "# Imprime el contenido del archivo JSON\n",
    "print(datos2)"
   ]
  },
  {
   "cell_type": "code",
   "execution_count": null,
   "metadata": {},
   "outputs": [],
   "source": [
    "df2= pd.DataFrame(datos2)\n",
    "df2"
   ]
  },
  {
   "cell_type": "code",
   "execution_count": null,
   "metadata": {},
   "outputs": [],
   "source": [
    "ar_json2=df2.to_json('archivo2.json', orient='records', lines=True)"
   ]
  }
 ],
 "metadata": {
  "kernelspec": {
   "display_name": "Python 3",
   "language": "python",
   "name": "python3"
  },
  "language_info": {
   "codemirror_mode": {
    "name": "ipython",
    "version": 3
   },
   "file_extension": ".py",
   "mimetype": "text/x-python",
   "name": "python",
   "nbconvert_exporter": "python",
   "pygments_lexer": "ipython3",
   "version": "3.12.0"
  }
 },
 "nbformat": 4,
 "nbformat_minor": 2
}
